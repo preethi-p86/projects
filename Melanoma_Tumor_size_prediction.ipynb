{
  "nbformat": 4,
  "nbformat_minor": 0,
  "metadata": {
    "colab": {
      "name": "Melanoma Tumor size prediction.ipynb",
      "provenance": [],
      "collapsed_sections": []
    },
    "kernelspec": {
      "name": "python3",
      "display_name": "Python 3"
    },
    "language_info": {
      "name": "python"
    }
  },
  "cells": [
    {
      "cell_type": "markdown",
      "source": [
        "# MELANOMA TUMOR SIZE PREDICTION"
      ],
      "metadata": {
        "id": "fne1ruyfF5ag"
      }
    },
    {
      "cell_type": "markdown",
      "source": [
        "**Subject :** MACHINE LEARNING"
      ],
      "metadata": {
        "id": "ckOaVA69F5Nu"
      }
    },
    {
      "cell_type": "markdown",
      "source": [
        "**EXPLORATORY DATA ANALYSIS**\n",
        "\n",
        "*   To find insights\n",
        "*   To know about the dataset\n",
        "\n"
      ],
      "metadata": {
        "id": "lR1HEGIaF5Cd"
      }
    },
    {
      "cell_type": "markdown",
      "source": [
        "#### WORKFLOW OF THE PROJECT :\n",
        "\n",
        "1. Univariate analysis\n",
        "\n",
        "\n",
        "      *   Central tendency\n",
        "      *   Dispersion\n",
        "2. Bivariate analysis\n",
        "\n",
        "      *   Numerical plots\n",
        "      *   Categorical plots\n",
        "3. Prediction using Machine Learning Concepts\n",
        "\n",
        "*   List item\n",
        "*   List item\n",
        "\n",
        "\n",
        "\n",
        "\n"
      ],
      "metadata": {
        "id": "YOpyO_K1F4sr"
      }
    },
    {
      "cell_type": "markdown",
      "source": [
        "#### IMPORTING LIBRARIES"
      ],
      "metadata": {
        "id": "betwjMuLKBnM"
      }
    },
    {
      "cell_type": "code",
      "metadata": {
        "id": "EY6zhlJvVdED"
      },
      "source": [
        "import pandas as pd\n",
        "import numpy as np\n",
        "import matplotlib.pyplot as plt\n",
        "import seaborn as sns\n",
        "import warnings\n",
        "warnings.filterwarnings('ignore')"
      ],
      "execution_count": null,
      "outputs": []
    },
    {
      "cell_type": "markdown",
      "source": [
        "#### DATASET LOADING"
      ],
      "metadata": {
        "id": "bcjjwmVPKJ8n"
      }
    },
    {
      "cell_type": "code",
      "metadata": {
        "id": "FqW51WQbVl68"
      },
      "source": [
        "df = pd.read_excel(\"Tumor_size_Prediction_1.xlsx\")"
      ],
      "execution_count": null,
      "outputs": []
    },
    {
      "cell_type": "code",
      "metadata": {
        "id": "SYIk7jkUW6RE"
      },
      "source": [
        "df.head()"
      ],
      "execution_count": null,
      "outputs": []
    },
    {
      "cell_type": "code",
      "metadata": {
        "id": "0y3Iy0e1XnPn"
      },
      "source": [
        "df.shape"
      ],
      "execution_count": null,
      "outputs": []
    },
    {
      "cell_type": "code",
      "metadata": {
        "id": "STR8UDr2XwFy"
      },
      "source": [
        "df.columns"
      ],
      "execution_count": null,
      "outputs": []
    },
    {
      "cell_type": "code",
      "source": [
        "df.dtypes"
      ],
      "metadata": {
        "id": "fLwx_FZSFb0e"
      },
      "execution_count": null,
      "outputs": []
    },
    {
      "cell_type": "markdown",
      "source": [
        "DATA PREPROCESSING"
      ],
      "metadata": {
        "id": "IgzKY5xUKQ31"
      }
    },
    {
      "cell_type": "code",
      "metadata": {
        "id": "L_wcmN28EplI"
      },
      "source": [
        "#no null values - data cleaning\n",
        "df.isnull().sum()"
      ],
      "execution_count": null,
      "outputs": []
    },
    {
      "cell_type": "code",
      "metadata": {
        "id": "dRc1l8_pXq_J"
      },
      "source": [
        "df.info()"
      ],
      "execution_count": null,
      "outputs": []
    },
    {
      "cell_type": "code",
      "metadata": {
        "id": "uHGcPF_MXsWC"
      },
      "source": [
        "df.describe()"
      ],
      "execution_count": null,
      "outputs": []
    },
    {
      "cell_type": "markdown",
      "source": [
        "#### GETTING UNIQUE VALUES:"
      ],
      "metadata": {
        "id": "YXQdsHD8N68J"
      }
    },
    {
      "cell_type": "code",
      "source": [
        "for i in df.columns:\n",
        "  print(f\"Unique {i} 's count : {df[i].nunique()}\")\n",
        "  print(f\"{df[i].unique()}\\n\")"
      ],
      "metadata": {
        "id": "lztpGsdNKarw"
      },
      "execution_count": null,
      "outputs": []
    },
    {
      "cell_type": "code",
      "metadata": {
        "id": "J46cCUTfXpJx"
      },
      "source": [
        "df.corr()"
      ],
      "execution_count": null,
      "outputs": []
    },
    {
      "cell_type": "code",
      "metadata": {
        "id": "zr9ABgyi7-s6"
      },
      "source": [
        "plt.figure(figsize = [12, 8])\n",
        "sns.heatmap(df.corr(),annot = True, cmap = 'viridis_r', fmt = '.2f');"
      ],
      "execution_count": null,
      "outputs": []
    },
    {
      "cell_type": "code",
      "source": [
        ""
      ],
      "metadata": {
        "id": "x8ZYZRjoXsIm"
      },
      "execution_count": null,
      "outputs": []
    },
    {
      "cell_type": "code",
      "source": [
        ""
      ],
      "metadata": {
        "id": "ZpneXymyXsVo"
      },
      "execution_count": null,
      "outputs": []
    },
    {
      "cell_type": "code",
      "source": [
        ""
      ],
      "metadata": {
        "id": "_ofdSqxKXsjQ"
      },
      "execution_count": null,
      "outputs": []
    },
    {
      "cell_type": "code",
      "metadata": {
        "colab": {
          "base_uri": "https://localhost:8080/",
          "height": 294
        },
        "id": "I0DXZK4QJlaI",
        "outputId": "c74a6e54-4e9f-41aa-8bef-32dc22ede400"
      },
      "source": [
        "bins = np.arange(0,df.tumor_size.max()+0.25, 0.25)\n",
        "plt.hist(data = df, x = 'tumor_size', bins = bins)\n",
        "plt.xlabel('Size (mm)')\n",
        "plt.ylabel('frequency')\n",
        "plt.title('The Distribution of \"tumor_size\"');"
      ],
      "execution_count": null,
      "outputs": [
        {
          "output_type": "display_data",
          "data": {
            "image/png": "[encoded data removed]",
            "text/plain": [
              "<Figure size 432x288 with 1 Axes>"
            ]
          },
          "metadata": {
            "needs_background": "light"
          }
        }
      ]
    },
    {
      "cell_type": "code",
      "metadata": {
        "colab": {
          "base_uri": "https://localhost:8080/",
          "height": 350
        },
        "id": "cc1cuZB1JzKP",
        "outputId": "6cd6fdc0-17cc-4e67-fcff-d903fc5b526e"
      },
      "source": [
        "plt.figure(figsize = [20, 5]) \n",
        "\n",
        "plt.subplot(1, 2, 1) \n",
        "bins = np.arange(2865, df.mass_npea.max()+500, 500)\n",
        "plt.hist(data = df, x = 'mass_npea', bins = bins)\n",
        "plt.xlabel('Mass of the area(mm)')\n",
        "plt.ylabel('Frequency')\n",
        "plt.xlim(0, 40000)\n",
        "plt.title('Size area Distribution')\n",
        "\n",
        "plt.subplot(1, 2, 2) \n",
        "bins = np.arange(510, df.size_npear.max()+200, 200)\n",
        "plt.hist(data = df, x = 'size_npear', bins = bins)\n",
        "plt.xlabel('Size of the area(mm)')\n",
        "plt.ylabel('Frequency')\n",
        "# plt.xlim(0, 40000);\n",
        "plt.title('Mass area Distribution');"
      ],
      "execution_count": null,
      "outputs": [
        {
          "output_type": "display_data",
          "data": {
            "image/png": "[encoded data removed]",
            "text/plain": [
              "<Figure size 1440x360 with 2 Axes>"
            ]
          },
          "metadata": {
            "needs_background": "light"
          }
        }
      ]
    },
    {
      "cell_type": "code",
      "metadata": {
        "colab": {
          "base_uri": "https://localhost:8080/",
          "height": 294
        },
        "id": "7JTnvdvKKhJp",
        "outputId": "95f10f3d-3463-4aca-b6fb-6464b95b5b72"
      },
      "source": [
        "bins = np.arange(2865, df.mass_npea.max()+100, 100)\n",
        "plt.hist(data = df, x = 'mass_npea', bins = bins)\n",
        "plt.xlabel('MASS(mm)')\n",
        "plt.ylabel('Frequency')\n",
        "plt.title('Mass area Distribution with small bins');"
      ],
      "execution_count": null,
      "outputs": [
        {
          "output_type": "display_data",
          "data": {
            "image/png": "[encoded data removed]",
            "text/plain": [
              "<Figure size 432x288 with 1 Axes>"
            ]
          },
          "metadata": {
            "needs_background": "light"
          }
        }
      ]
    },
    {
      "cell_type": "code",
      "metadata": {
        "colab": {
          "base_uri": "https://localhost:8080/",
          "height": 294
        },
        "id": "nZ-EaPwKKq9f",
        "outputId": "47633600-c56e-4828-88b6-96e2c3ad65e0"
      },
      "source": [
        "#higher ratio we get the less spread of Tumor.\n",
        "bins = np.arange(df.malign_ratio.min(), df.malign_ratio.max()+0.01, 0.01)\n",
        "plt.hist(data = df, x = 'malign_ratio', bins = bins)\n",
        "plt.xlabel('Malign ratio')\n",
        "plt.ylabel('Frequency')\n",
        "plt.title('Malign ratio distribution');"
      ],
      "execution_count": null,
      "outputs": [
        {
          "output_type": "display_data",
          "data": {
            "image/png": "[encoded data removed]",
            "text/plain": [
              "<Figure size 432x288 with 1 Axes>"
            ]
          },
          "metadata": {
            "needs_background": "light"
          }
        }
      ]
    },
    {
      "cell_type": "code",
      "metadata": {
        "id": "471g60PnYVX8"
      },
      "source": [
        "from sklearn.model_selection import train_test_split"
      ],
      "execution_count": null,
      "outputs": []
    },
    {
      "cell_type": "code",
      "metadata": {
        "id": "Sk2cP8Sw8VgB"
      },
      "source": [
        "y = df['tumor_size']\n",
        "X = df.drop(['tumor_size'],axis=1)"
      ],
      "execution_count": null,
      "outputs": []
    },
    {
      "cell_type": "code",
      "metadata": {
        "id": "zbIVc7mT8rFb"
      },
      "source": [
        "X_train, X_test, y_train, y_test = train_test_split(X,y,train_size=0.75,test_size=0.25,random_state=0)"
      ],
      "execution_count": null,
      "outputs": []
    },
    {
      "cell_type": "code",
      "metadata": {
        "id": "lupsbVc5EM2z"
      },
      "source": [
        "from sklearn.linear_model import LinearRegression\n",
        "from sklearn.metrics import mean_absolute_error"
      ],
      "execution_count": null,
      "outputs": []
    },
    {
      "cell_type": "code",
      "metadata": {
        "id": "tzdUIRWCGvi-"
      },
      "source": [
        "from sklearn.tree import DecisionTreeRegressor"
      ],
      "execution_count": null,
      "outputs": []
    },
    {
      "cell_type": "code",
      "metadata": {
        "id": "2zDK2pqsTuEj"
      },
      "source": [
        "from sklearn.ensemble import RandomForestRegressor"
      ],
      "execution_count": null,
      "outputs": []
    },
    {
      "cell_type": "code",
      "metadata": {
        "id": "kiLOtUnwV7c7"
      },
      "source": [
        "from xgboost import XGBRegressor"
      ],
      "execution_count": null,
      "outputs": []
    },
    {
      "cell_type": "code",
      "metadata": {
        "id": "inK25oElXhDx"
      },
      "source": [
        "from sklearn.ensemble import GradientBoostingRegressor"
      ],
      "execution_count": null,
      "outputs": []
    },
    {
      "cell_type": "code",
      "metadata": {
        "id": "GVctlmtGvf3-"
      },
      "source": [
        "from sklearn.linear_model import SGDRegressor"
      ],
      "execution_count": null,
      "outputs": []
    },
    {
      "cell_type": "code",
      "metadata": {
        "id": "tBc86OnczhvH"
      },
      "source": [
        "from sklearn.linear_model import RidgeCV"
      ],
      "execution_count": null,
      "outputs": []
    },
    {
      "cell_type": "code",
      "metadata": {
        "id": "BQz5RcFV2Yyv"
      },
      "source": [
        "from sklearn.svm import SVR"
      ],
      "execution_count": null,
      "outputs": []
    },
    {
      "cell_type": "code",
      "metadata": {
        "id": "GDB_CNXgJL2E"
      },
      "source": [
        "from sklearn.svm import LinearSVR"
      ],
      "execution_count": null,
      "outputs": []
    },
    {
      "cell_type": "code",
      "metadata": {
        "id": "3_WmOmkcPQio"
      },
      "source": [
        "from sklearn.neural_network import MLPRegressor"
      ],
      "execution_count": null,
      "outputs": []
    },
    {
      "cell_type": "code",
      "metadata": {
        "id": "3SzwCsllVWeC"
      },
      "source": [
        "from sklearn.model_selection import GridSearchCV"
      ],
      "execution_count": null,
      "outputs": []
    },
    {
      "cell_type": "code",
      "metadata": {
        "id": "0JWQcZUbU1Ue"
      },
      "source": [
        "from sklearn.linear_model import SGDRegressor"
      ],
      "execution_count": null,
      "outputs": []
    },
    {
      "cell_type": "code",
      "metadata": {
        "id": "monIVGGct8l9"
      },
      "source": [
        "from sklearn.ensemble import BaggingRegressor"
      ],
      "execution_count": null,
      "outputs": []
    },
    {
      "cell_type": "code",
      "metadata": {
        "id": "k9fNLyxhufwp"
      },
      "source": [
        "from sklearn.tree import ExtraTreeRegressor"
      ],
      "execution_count": null,
      "outputs": []
    },
    {
      "cell_type": "code",
      "metadata": {
        "id": "EyHxgz5fvWDy"
      },
      "source": [
        "from sklearn.ensemble import AdaBoostRegressor"
      ],
      "execution_count": null,
      "outputs": []
    },
    {
      "cell_type": "code",
      "metadata": {
        "id": "l8TtzhkMw135"
      },
      "source": [
        "from sklearn.ensemble import VotingRegressor"
      ],
      "execution_count": null,
      "outputs": []
    },
    {
      "cell_type": "markdown",
      "metadata": {
        "id": "CjsMKYAxFd0z"
      },
      "source": [
        "**Linear Regression**"
      ]
    },
    {
      "cell_type": "code",
      "metadata": {
        "id": "pg8R53W6F6AA"
      },
      "source": [
        "#understanding the relationship between input and output numerical variables\n",
        "#minimize the residual sum of squares between the observed targets\n",
        "\n",
        "lr_model = LinearRegression()"
      ],
      "execution_count": null,
      "outputs": []
    },
    {
      "cell_type": "code",
      "metadata": {
        "colab": {
          "base_uri": "https://localhost:8080/"
        },
        "id": "Q5TllNjjGPB5",
        "outputId": "1db644f7-f232-419c-b816-bb64cf83aed6"
      },
      "source": [
        "lr_model.fit(X_train,y_train)"
      ],
      "execution_count": null,
      "outputs": [
        {
          "output_type": "execute_result",
          "data": {
            "text/plain": [
              "LinearRegression()"
            ]
          },
          "metadata": {},
          "execution_count": 42
        }
      ]
    },
    {
      "cell_type": "code",
      "metadata": {
        "colab": {
          "base_uri": "https://localhost:8080/"
        },
        "id": "d5EmBkGtGS-k",
        "outputId": "c28afeb2-9ed1-4a1b-a64e-82ab02c06d34"
      },
      "source": [
        "y_pred_lr = lr_model.predict(X_test)\n",
        "y_pred_lr"
      ],
      "execution_count": null,
      "outputs": [
        {
          "output_type": "execute_result",
          "data": {
            "text/plain": [
              "array([11.23432325,  8.89382245, 12.70598903, ...,  6.50657065,\n",
              "        9.8266435 ,  7.21130517])"
            ]
          },
          "metadata": {},
          "execution_count": 43
        }
      ]
    },
    {
      "cell_type": "code",
      "metadata": {
        "colab": {
          "base_uri": "https://localhost:8080/"
        },
        "id": "xMsxCiBHGYpQ",
        "outputId": "dfb16ec3-6a7b-48be-dc15-3a4ee9058a91"
      },
      "source": [
        "mae_lr = mean_absolute_error(y_test,y_pred_lr)\n",
        "mae_lr"
      ],
      "execution_count": null,
      "outputs": [
        {
          "output_type": "execute_result",
          "data": {
            "text/plain": [
              "4.308725498807351"
            ]
          },
          "metadata": {},
          "execution_count": 44
        }
      ]
    },
    {
      "cell_type": "markdown",
      "metadata": {
        "id": "UTVqcZZgOi2Z"
      },
      "source": [
        "**Decision Tree**"
      ]
    },
    {
      "cell_type": "code",
      "metadata": {
        "id": "mrPPOdUtG8I0"
      },
      "source": [
        "dt_model = DecisionTreeRegressor(max_leaf_nodes=100,random_state=1)"
      ],
      "execution_count": null,
      "outputs": []
    },
    {
      "cell_type": "code",
      "metadata": {
        "colab": {
          "base_uri": "https://localhost:8080/"
        },
        "id": "kRUEGmuYJjVE",
        "outputId": "a019a0f6-f646-4a96-bd5e-6c589f028722"
      },
      "source": [
        "dt_model.fit(X_train,y_train)"
      ],
      "execution_count": null,
      "outputs": [
        {
          "output_type": "execute_result",
          "data": {
            "text/plain": [
              "DecisionTreeRegressor(max_leaf_nodes=100, random_state=1)"
            ]
          },
          "metadata": {},
          "execution_count": 51
        }
      ]
    },
    {
      "cell_type": "code",
      "metadata": {
        "colab": {
          "base_uri": "https://localhost:8080/"
        },
        "id": "fMP3phVJJnZm",
        "outputId": "88357e53-f17b-4792-f994-4fd13426c2fe"
      },
      "source": [
        "y_pred_dt = dt_model.predict(X_test)\n",
        "y_pred_dt"
      ],
      "execution_count": null,
      "outputs": [
        {
          "output_type": "execute_result",
          "data": {
            "text/plain": [
              "array([11.32883333, 12.15236424, 16.152125  , ...,  4.31676124,\n",
              "       12.68749296, 10.5620597 ])"
            ]
          },
          "metadata": {},
          "execution_count": 52
        }
      ]
    },
    {
      "cell_type": "code",
      "metadata": {
        "colab": {
          "base_uri": "https://localhost:8080/"
        },
        "id": "77AFElsKJsaa",
        "outputId": "d942b113-a17e-485c-e3ad-556bb29727ca"
      },
      "source": [
        "mae_dt = mean_absolute_error(y_test,y_pred_dt)\n",
        "mae_dt"
      ],
      "execution_count": null,
      "outputs": [
        {
          "output_type": "execute_result",
          "data": {
            "text/plain": [
              "3.6423019759297532"
            ]
          },
          "metadata": {},
          "execution_count": 53
        }
      ]
    },
    {
      "cell_type": "markdown",
      "metadata": {
        "id": "dwKlhxauTvn7"
      },
      "source": [
        "**Random forest**"
      ]
    },
    {
      "cell_type": "code",
      "metadata": {
        "id": "-0rG3crgQJjB"
      },
      "source": [
        "rf_model = RandomForestRegressor(random_state=0)"
      ],
      "execution_count": null,
      "outputs": []
    },
    {
      "cell_type": "code",
      "metadata": {
        "colab": {
          "base_uri": "https://localhost:8080/"
        },
        "id": "aH-B3V7JU5C3",
        "outputId": "ebed9361-a6d8-43d1-c6e5-f8073356c172"
      },
      "source": [
        "rf_model.fit(X_train,y_train)"
      ],
      "execution_count": null,
      "outputs": [
        {
          "output_type": "execute_result",
          "data": {
            "text/plain": [
              "RandomForestRegressor(random_state=0)"
            ]
          },
          "metadata": {},
          "execution_count": 55
        }
      ]
    },
    {
      "cell_type": "code",
      "metadata": {
        "colab": {
          "base_uri": "https://localhost:8080/"
        },
        "id": "JgsC7vkyVYnp",
        "outputId": "60b92487-31fe-4e73-e2b8-ca639fa537bc"
      },
      "source": [
        "mae_rf = mean_absolute_error(y_test,y_pred_rf)\n",
        "mae_rf"
      ],
      "execution_count": null,
      "outputs": [
        {
          "output_type": "execute_result",
          "data": {
            "text/plain": [
              "2.9775102142544823"
            ]
          },
          "metadata": {},
          "execution_count": 57
        }
      ]
    },
    {
      "cell_type": "markdown",
      "metadata": {
        "id": "eGFXw0QgVryz"
      },
      "source": [
        "**XG Boost**"
      ]
    },
    {
      "cell_type": "code",
      "metadata": {
        "id": "RNRou9oYVglc"
      },
      "source": [
        "xg_model = XGBRegressor(n_estimators=500,\n",
        "                        learning_rate=0.05,\n",
        "                        random_state = 1)"
      ],
      "execution_count": null,
      "outputs": []
    },
    {
      "cell_type": "code",
      "metadata": {
        "colab": {
          "base_uri": "https://localhost:8080/"
        },
        "id": "b3BjI1ZqWxOQ",
        "outputId": "00eb9a53-0043-4b4a-df7f-2abe07d596e6"
      },
      "source": [
        "xg_model.fit(X_train,y_train,\n",
        "             early_stopping_rounds=5,\n",
        "             eval_set=[(X_test,y_test)],\n",
        "             verbose=False)"
      ],
      "execution_count": null,
      "outputs": [
        {
          "output_type": "stream",
          "name": "stdout",
          "text": [
            "[16:43:40] WARNING: /workspace/src/objective/regression_obj.cu:152: reg:linear is now deprecated in favor of reg:squarederror.\n"
          ]
        },
        {
          "output_type": "execute_result",
          "data": {
            "text/plain": [
              "XGBRegressor(learning_rate=0.05, n_estimators=500, random_state=1)"
            ]
          },
          "metadata": {},
          "execution_count": 59
        }
      ]
    },
    {
      "cell_type": "code",
      "metadata": {
        "colab": {
          "base_uri": "https://localhost:8080/"
        },
        "id": "4VEDxstuW07i",
        "outputId": "11e6fd1b-70ef-4c62-84b3-edecbd99c499"
      },
      "source": [
        "y_pred_xg = xg_model.predict(X_test)\n",
        "y_pred_xg"
      ],
      "execution_count": null,
      "outputs": [
        {
          "output_type": "execute_result",
          "data": {
            "text/plain": [
              "array([10.396    , 10.051304 , 14.734467 , ...,  5.4989076, 11.251607 ,\n",
              "        9.210086 ], dtype=float32)"
            ]
          },
          "metadata": {},
          "execution_count": 60
        }
      ]
    },
    {
      "cell_type": "code",
      "metadata": {
        "colab": {
          "base_uri": "https://localhost:8080/"
        },
        "id": "kJ_CXJjqXLRU",
        "outputId": "f62089fd-c314-416b-f37e-78f58f660289"
      },
      "source": [
        "mae_xg = mean_absolute_error(y_test,y_pred_xg)\n",
        "mae_xg"
      ],
      "execution_count": null,
      "outputs": [
        {
          "output_type": "execute_result",
          "data": {
            "text/plain": [
              "3.588241481094002"
            ]
          },
          "metadata": {},
          "execution_count": 61
        }
      ]
    },
    {
      "cell_type": "markdown",
      "metadata": {
        "id": "MfUUe-LAX_Xl"
      },
      "source": [
        "**Gradient boosting**"
      ]
    },
    {
      "cell_type": "code",
      "metadata": {
        "id": "tJUcjPF9mxlJ"
      },
      "source": [
        "gb_model = GradientBoostingRegressor(n_estimators=150,random_state=0)"
      ],
      "execution_count": null,
      "outputs": []
    },
    {
      "cell_type": "code",
      "metadata": {
        "colab": {
          "base_uri": "https://localhost:8080/"
        },
        "id": "_krJzy-Cm226",
        "outputId": "14fdce8e-7418-46e1-8a54-acec1f5abb01"
      },
      "source": [
        "gb_model.fit(X_train,y_train)"
      ],
      "execution_count": null,
      "outputs": [
        {
          "output_type": "execute_result",
          "data": {
            "text/plain": [
              "GradientBoostingRegressor(n_estimators=150, random_state=0)"
            ]
          },
          "metadata": {},
          "execution_count": 63
        }
      ]
    },
    {
      "cell_type": "code",
      "metadata": {
        "colab": {
          "base_uri": "https://localhost:8080/"
        },
        "id": "EwnVx4aym6FN",
        "outputId": "2e06f809-f05d-4c59-f610-bf20f60d1a17"
      },
      "source": [
        "y_pred_gb = gb_model.predict(X_test)\n",
        "y_pred_gb"
      ],
      "execution_count": null,
      "outputs": [
        {
          "output_type": "execute_result",
          "data": {
            "text/plain": [
              "array([10.78800808, 10.08213267, 14.88716089, ...,  5.78710458,\n",
              "       11.20871049,  8.77498747])"
            ]
          },
          "metadata": {},
          "execution_count": 64
        }
      ]
    },
    {
      "cell_type": "code",
      "metadata": {
        "colab": {
          "base_uri": "https://localhost:8080/"
        },
        "id": "pvbGxEIenCeq",
        "outputId": "7ebb6075-4417-446f-d69f-ae8bd243bec6"
      },
      "source": [
        "mae_gb = mean_absolute_error(y_test,y_pred_gb)\n",
        "mae_gb"
      ],
      "execution_count": null,
      "outputs": [
        {
          "output_type": "execute_result",
          "data": {
            "text/plain": [
              "3.6936544473419564"
            ]
          },
          "metadata": {},
          "execution_count": 65
        }
      ]
    },
    {
      "cell_type": "markdown",
      "metadata": {
        "id": "kTDbhTKczgNF"
      },
      "source": [
        "**RidgeCV**"
      ]
    },
    {
      "cell_type": "code",
      "metadata": {
        "id": "MWV-wrYs1aks"
      },
      "source": [
        "ridge_model = RidgeCV(cv=5)"
      ],
      "execution_count": null,
      "outputs": []
    },
    {
      "cell_type": "code",
      "metadata": {
        "colab": {
          "base_uri": "https://localhost:8080/"
        },
        "id": "rKGxjmA_1and",
        "outputId": "0e468178-b128-4ce0-f8ed-e962c3eba5c7"
      },
      "source": [
        "ridge_model.fit(X_train,y_train)"
      ],
      "execution_count": null,
      "outputs": [
        {
          "output_type": "execute_result",
          "data": {
            "text/plain": [
              "RidgeCV(alphas=array([ 0.1,  1. , 10. ]), cv=5)"
            ]
          },
          "metadata": {},
          "execution_count": 67
        }
      ]
    },
    {
      "cell_type": "code",
      "metadata": {
        "colab": {
          "base_uri": "https://localhost:8080/"
        },
        "id": "UTtAnN1q1xn2",
        "outputId": "ef572c23-01c5-4e31-d245-95221922b3cf"
      },
      "source": [
        "y_pred_ridge = ridge_model.predict(X_test)\n",
        "y_pred_ridge"
      ],
      "execution_count": null,
      "outputs": [
        {
          "output_type": "execute_result",
          "data": {
            "text/plain": [
              "array([11.22972113,  8.89577207, 12.69615636, ...,  6.50530332,\n",
              "        9.82303226,  7.21473487])"
            ]
          },
          "metadata": {},
          "execution_count": 68
        }
      ]
    },
    {
      "cell_type": "code",
      "metadata": {
        "colab": {
          "base_uri": "https://localhost:8080/"
        },
        "id": "URFXZOKQ2JRf",
        "outputId": "d2c45bfd-173c-407f-8f3d-b40ac36cb214"
      },
      "source": [
        "mae_ridge = mean_absolute_error(y_test,y_pred_ridge)\n",
        "mae_ridge"
      ],
      "execution_count": null,
      "outputs": [
        {
          "output_type": "execute_result",
          "data": {
            "text/plain": [
              "4.310096695557291"
            ]
          },
          "metadata": {},
          "execution_count": 69
        }
      ]
    },
    {
      "cell_type": "markdown",
      "metadata": {
        "id": "KlnCxD7KCogs"
      },
      "source": [
        "**Support Vector Machine**"
      ]
    },
    {
      "cell_type": "code",
      "metadata": {
        "id": "CbQ6FGa1C-VZ"
      },
      "source": [
        "svr_model = SVR(kernel='rbf')"
      ],
      "execution_count": null,
      "outputs": []
    },
    {
      "cell_type": "code",
      "metadata": {
        "colab": {
          "base_uri": "https://localhost:8080/"
        },
        "id": "qSw3UqvuDLs0",
        "outputId": "1c9c9e5c-b629-478a-82ea-aa9d1ae484b4"
      },
      "source": [
        "svr_model.fit(X_train,y_train)"
      ],
      "execution_count": null,
      "outputs": [
        {
          "output_type": "execute_result",
          "data": {
            "text/plain": [
              "SVR()"
            ]
          },
          "metadata": {},
          "execution_count": 71
        }
      ]
    },
    {
      "cell_type": "code",
      "metadata": {
        "colab": {
          "base_uri": "https://localhost:8080/"
        },
        "id": "ullIoeVFDSBT",
        "outputId": "0d13db2f-060e-4535-806e-607d2174a9ce"
      },
      "source": [
        "y_pred_svr = svr_model.predict(X_test)\n",
        "y_pred_svr"
      ],
      "execution_count": null,
      "outputs": [
        {
          "output_type": "execute_result",
          "data": {
            "text/plain": [
              "array([4.46593842, 5.90350416, 5.24473451, ..., 5.28987931, 5.2452693 ,\n",
              "       6.23429966])"
            ]
          },
          "metadata": {},
          "execution_count": 72
        }
      ]
    },
    {
      "cell_type": "code",
      "metadata": {
        "colab": {
          "base_uri": "https://localhost:8080/"
        },
        "id": "fWGlcyZgDe55",
        "outputId": "7127f55e-5f6f-4623-a811-9ea9ba6e4004"
      },
      "source": [
        "mae_svr = mean_absolute_error(y_test,y_pred_svr)\n",
        "mae_svr"
      ],
      "execution_count": null,
      "outputs": [
        {
          "output_type": "execute_result",
          "data": {
            "text/plain": [
              "5.188331875261993"
            ]
          },
          "metadata": {},
          "execution_count": 73
        }
      ]
    },
    {
      "cell_type": "code",
      "source": [
        "#svr_model_n = SVR(kernel='linear',C=1)"
      ],
      "metadata": {
        "id": "azwKFQHasw08"
      },
      "execution_count": null,
      "outputs": []
    },
    {
      "cell_type": "code",
      "source": [
        "#svr_model_n.fit(X_train_n,y_train_n)"
      ],
      "metadata": {
        "id": "YuovgcaAs4oG"
      },
      "execution_count": null,
      "outputs": []
    },
    {
      "cell_type": "code",
      "source": [
        "#y_pred_svr_n = svr_model_n.predict(X_test_n)\n",
        "#y_pred_svr_n"
      ],
      "metadata": {
        "id": "cIoZnUxfs4v0"
      },
      "execution_count": null,
      "outputs": []
    },
    {
      "cell_type": "code",
      "source": [
        "#mae_svr_n = mean_absolute_error(y_test_n,y_pred_svr_n)\n",
        "#mae_svr_n"
      ],
      "metadata": {
        "id": "Rb60yreKs5CT"
      },
      "execution_count": null,
      "outputs": []
    },
    {
      "cell_type": "code",
      "source": [
        "#scores = cross_val_score(clf, X, y, cv=5)"
      ],
      "metadata": {
        "id": "NDbmHFn0uLJL"
      },
      "execution_count": null,
      "outputs": []
    },
    {
      "cell_type": "code",
      "source": [
        "#scores.mean()"
      ],
      "metadata": {
        "id": "GOBStp_HuLU0"
      },
      "execution_count": null,
      "outputs": []
    },
    {
      "cell_type": "code",
      "source": [
        ""
      ],
      "metadata": {
        "id": "cdOG7VPAuLX7"
      },
      "execution_count": null,
      "outputs": []
    },
    {
      "cell_type": "markdown",
      "metadata": {
        "id": "w29Xu-BtLE6y"
      },
      "source": [
        "**Linear Support Vector Regression**"
      ]
    },
    {
      "cell_type": "code",
      "metadata": {
        "id": "aXa-CFcTLUFd"
      },
      "source": [
        "lsvr_model = LinearSVR(random_state=1)"
      ],
      "execution_count": null,
      "outputs": []
    },
    {
      "cell_type": "code",
      "metadata": {
        "colab": {
          "base_uri": "https://localhost:8080/"
        },
        "id": "BajkKJ36NXCv",
        "outputId": "a3e75e15-bf8e-48ff-c748-1d7199b7e47a"
      },
      "source": [
        "lsvr_model.fit(X_train,y_train)"
      ],
      "execution_count": null,
      "outputs": [
        {
          "output_type": "execute_result",
          "data": {
            "text/plain": [
              "LinearSVR(random_state=1)"
            ]
          },
          "metadata": {},
          "execution_count": 75
        }
      ]
    },
    {
      "cell_type": "code",
      "metadata": {
        "colab": {
          "base_uri": "https://localhost:8080/"
        },
        "id": "BmG4PUT5NnNK",
        "outputId": "4d4ff433-b880-4382-b2bd-c700b0088994"
      },
      "source": [
        "y_pred_lsvr = lsvr_model.predict(X_test)\n",
        "y_pred_lsvr"
      ],
      "execution_count": null,
      "outputs": [
        {
          "output_type": "execute_result",
          "data": {
            "text/plain": [
              "array([13.8034533 ,  9.15772254, 15.38724997, ..., 12.01152121,\n",
              "       12.86071843,  9.19497852])"
            ]
          },
          "metadata": {},
          "execution_count": 76
        }
      ]
    },
    {
      "cell_type": "code",
      "metadata": {
        "colab": {
          "base_uri": "https://localhost:8080/"
        },
        "id": "0vrKzErYPHun",
        "outputId": "3871e541-d258-4806-afb1-d0be3db9f8a5"
      },
      "source": [
        "mae_lsvr = mean_absolute_error(y_test,y_pred_lsvr)\n",
        "mae_lsvr"
      ],
      "execution_count": null,
      "outputs": [
        {
          "output_type": "execute_result",
          "data": {
            "text/plain": [
              "7.445246551089847"
            ]
          },
          "metadata": {},
          "execution_count": 77
        }
      ]
    },
    {
      "cell_type": "markdown",
      "metadata": {
        "id": "Eyaelq9-QO1U"
      },
      "source": [
        "**MLPRegressor**"
      ]
    },
    {
      "cell_type": "code",
      "metadata": {
        "id": "afsc2ttbQjYC"
      },
      "source": [
        "MLP_model = MLPRegressor(random_state=1)"
      ],
      "execution_count": null,
      "outputs": []
    },
    {
      "cell_type": "code",
      "metadata": {
        "id": "wGK8wB58VeVI"
      },
      "source": [
        "param_grid = {'hidden_layer_sizes': [i for i in range(2,20)],\n",
        "              'activation': ['relu'],\n",
        "              'solver': ['adam'],\n",
        "              'learning_rate': ['constant'],\n",
        "              'learning_rate_init': [0.01],\n",
        "              'power_t': [0.5],\n",
        "              'alpha': [0.0001],\n",
        "              'max_iter': [1000],\n",
        "              'early_stopping': [True],\n",
        "              'warm_start': [False]}"
      ],
      "execution_count": null,
      "outputs": []
    },
    {
      "cell_type": "code",
      "metadata": {
        "id": "IRweIj7MQ1-N"
      },
      "source": [
        "mlp_gs = GridSearchCV(MLP_model,param_grid = param_grid,cv=10, verbose=True, pre_dispatch='2*n_jobs')"
      ],
      "execution_count": null,
      "outputs": []
    },
    {
      "cell_type": "code",
      "metadata": {
        "colab": {
          "base_uri": "https://localhost:8080/"
        },
        "id": "I_yeg864UaUL",
        "outputId": "c64890e6-8a68-42b7-e111-a17ff2758f5c"
      },
      "source": [
        "mlp_gs.fit(X_train,y_train)"
      ],
      "execution_count": null,
      "outputs": [
        {
          "output_type": "stream",
          "name": "stdout",
          "text": [
            "Fitting 10 folds for each of 18 candidates, totalling 180 fits\n"
          ]
        },
        {
          "output_type": "execute_result",
          "data": {
            "text/plain": [
              "GridSearchCV(cv=10, estimator=MLPRegressor(random_state=1),\n",
              "             param_grid={'activation': ['relu'], 'alpha': [0.0001],\n",
              "                         'early_stopping': [True],\n",
              "                         'hidden_layer_sizes': [2, 3, 4, 5, 6, 7, 8, 9, 10, 11,\n",
              "                                                12, 13, 14, 15, 16, 17, 18,\n",
              "                                                19],\n",
              "                         'learning_rate': ['constant'],\n",
              "                         'learning_rate_init': [0.01], 'max_iter': [1000],\n",
              "                         'power_t': [0.5], 'solver': ['adam'],\n",
              "                         'warm_start': [False]},\n",
              "             verbose=True)"
            ]
          },
          "metadata": {},
          "execution_count": 81
        }
      ]
    },
    {
      "cell_type": "code",
      "metadata": {
        "colab": {
          "base_uri": "https://localhost:8080/"
        },
        "id": "Qbe0srcJVxKM",
        "outputId": "9b6d4cfa-feca-42ae-d98c-390d9f9d1dc2"
      },
      "source": [
        "y_pred_mlp = mlp_gs.predict(X_test)\n",
        "y_pred_mlp"
      ],
      "execution_count": null,
      "outputs": [
        {
          "output_type": "execute_result",
          "data": {
            "text/plain": [
              "array([7.59812327, 5.59332926, 6.47047104, ..., 6.43259158, 6.48971242,\n",
              "       5.03117843])"
            ]
          },
          "metadata": {},
          "execution_count": 82
        }
      ]
    },
    {
      "cell_type": "code",
      "metadata": {
        "colab": {
          "base_uri": "https://localhost:8080/"
        },
        "id": "141bARr-UoxC",
        "outputId": "d9321550-bed2-451a-9375-76a316977405"
      },
      "source": [
        "mae_mlp = mean_absolute_error(y_test,y_pred_mlp)\n",
        "mae_mlp"
      ],
      "execution_count": null,
      "outputs": [
        {
          "output_type": "execute_result",
          "data": {
            "text/plain": [
              "5.921096253487148"
            ]
          },
          "metadata": {},
          "execution_count": 83
        }
      ]
    },
    {
      "cell_type": "markdown",
      "metadata": {
        "id": "SsFl73IqhjHa"
      },
      "source": [
        "**Stochastic gradient descent regressor**"
      ]
    },
    {
      "cell_type": "code",
      "metadata": {
        "id": "Up2g8_Lfjb8G"
      },
      "source": [
        "#max_iter=1000, tol=1e-3\n",
        "sgd_model = SGDRegressor(random_state=0)"
      ],
      "execution_count": null,
      "outputs": []
    },
    {
      "cell_type": "code",
      "metadata": {
        "id": "e4nL1kX7jtbO",
        "colab": {
          "base_uri": "https://localhost:8080/"
        },
        "outputId": "35035444-0667-4932-98b7-77133a1d0354"
      },
      "source": [
        "sgd_model.fit(X_train, y_train)"
      ],
      "execution_count": null,
      "outputs": [
        {
          "output_type": "execute_result",
          "data": {
            "text/plain": [
              "SGDRegressor(random_state=0)"
            ]
          },
          "metadata": {},
          "execution_count": 85
        }
      ]
    },
    {
      "cell_type": "code",
      "metadata": {
        "id": "6tRMctLrj3nl",
        "colab": {
          "base_uri": "https://localhost:8080/"
        },
        "outputId": "24aa7540-05d4-425d-e75d-33a6ccefbe35"
      },
      "source": [
        "y_pred_sgd = sgd_model.predict(X_test)\n",
        "y_pred_sgd"
      ],
      "execution_count": null,
      "outputs": [
        {
          "output_type": "execute_result",
          "data": {
            "text/plain": [
              "array([-2.32470238e+20, -1.69085605e+20, -1.97669316e+20, ...,\n",
              "       -1.95820035e+20, -1.97525419e+20, -1.51489796e+20])"
            ]
          },
          "metadata": {},
          "execution_count": 86
        }
      ]
    },
    {
      "cell_type": "code",
      "metadata": {
        "id": "q8r9LJJlj96C",
        "colab": {
          "base_uri": "https://localhost:8080/"
        },
        "outputId": "5a8437c3-1eab-42d8-f881-9c35e8f1fa3a"
      },
      "source": [
        "mae_sgd = mean_absolute_error(y_test,y_pred_sgd)\n",
        "mae_sgd"
      ],
      "execution_count": null,
      "outputs": [
        {
          "output_type": "execute_result",
          "data": {
            "text/plain": [
              "2.1239026294124174e+20"
            ]
          },
          "metadata": {},
          "execution_count": 87
        }
      ]
    },
    {
      "cell_type": "markdown",
      "metadata": {
        "id": "hWy8cPFEmx10"
      },
      "source": [
        "**Bagging Regressor**"
      ]
    },
    {
      "cell_type": "code",
      "metadata": {
        "id": "YjGGvR9jnqtY"
      },
      "source": [
        "bag_model = BaggingRegressor(random_state=0)"
      ],
      "execution_count": null,
      "outputs": []
    },
    {
      "cell_type": "code",
      "metadata": {
        "colab": {
          "base_uri": "https://localhost:8080/"
        },
        "id": "bkcgyWNet-9S",
        "outputId": "05f2181d-7348-4e9f-f2fd-b170c2ef6a5a"
      },
      "source": [
        "bag_model.fit(X_train,y_train)"
      ],
      "execution_count": null,
      "outputs": [
        {
          "output_type": "execute_result",
          "data": {
            "text/plain": [
              "BaggingRegressor(random_state=0)"
            ]
          },
          "metadata": {},
          "execution_count": 89
        }
      ]
    },
    {
      "cell_type": "code",
      "metadata": {
        "colab": {
          "base_uri": "https://localhost:8080/"
        },
        "id": "2JT6s6EsuL0V",
        "outputId": "5c11f43a-7e50-4ca9-b4cf-91f328f6742f"
      },
      "source": [
        "y_pred_bag = bag_model.predict(X_test)\n",
        "y_pred_bag"
      ],
      "execution_count": null,
      "outputs": [
        {
          "output_type": "execute_result",
          "data": {
            "text/plain": [
              "array([ 9.8927, 15.3804, 17.0033, ...,  2.8336, 14.1999,  9.2664])"
            ]
          },
          "metadata": {},
          "execution_count": 90
        }
      ]
    },
    {
      "cell_type": "code",
      "metadata": {
        "colab": {
          "base_uri": "https://localhost:8080/"
        },
        "id": "c4V0vcVHuUlm",
        "outputId": "cad943ca-bb6c-4d9c-d46e-b680dfc9a18d"
      },
      "source": [
        "mae_bag = mean_absolute_error(y_test,y_pred_bag)\n",
        "mae_bag"
      ],
      "execution_count": null,
      "outputs": [
        {
          "output_type": "execute_result",
          "data": {
            "text/plain": [
              "3.105567380848273"
            ]
          },
          "metadata": {},
          "execution_count": 91
        }
      ]
    },
    {
      "cell_type": "markdown",
      "metadata": {
        "id": "iXTzIApOukOR"
      },
      "source": [
        "**Extra Trees Regressor**"
      ]
    },
    {
      "cell_type": "code",
      "metadata": {
        "id": "M0Uu611Nu13F"
      },
      "source": [
        "et_model = ExtraTreeRegressor(random_state=0)"
      ],
      "execution_count": null,
      "outputs": []
    },
    {
      "cell_type": "code",
      "metadata": {
        "colab": {
          "base_uri": "https://localhost:8080/"
        },
        "id": "z8nazhq6u8Kk",
        "outputId": "bdd84f96-9c0e-4dd4-fdac-1baf4b1f25fa"
      },
      "source": [
        "et_model.fit(X_train,y_train)"
      ],
      "execution_count": null,
      "outputs": [
        {
          "output_type": "execute_result",
          "data": {
            "text/plain": [
              "ExtraTreeRegressor(random_state=0)"
            ]
          },
          "metadata": {},
          "execution_count": 93
        }
      ]
    },
    {
      "cell_type": "code",
      "metadata": {
        "colab": {
          "base_uri": "https://localhost:8080/"
        },
        "id": "08RqpphtvDOc",
        "outputId": "415a43f7-a602-4824-ba41-6b01d635887d"
      },
      "source": [
        "y_pred_et = et_model.predict(X_test)\n",
        "y_pred_et"
      ],
      "execution_count": null,
      "outputs": [
        {
          "output_type": "execute_result",
          "data": {
            "text/plain": [
              "array([ 4.543,  7.895, 17.802, ...,  3.707,  3.805, 10.362])"
            ]
          },
          "metadata": {},
          "execution_count": 94
        }
      ]
    },
    {
      "cell_type": "code",
      "metadata": {
        "colab": {
          "base_uri": "https://localhost:8080/"
        },
        "id": "P28n2kjxvJYc",
        "outputId": "0d42aa68-bb6e-481d-e4ae-cd6164e67cc1"
      },
      "source": [
        "mae_et = mean_absolute_error(y_test,y_pred_et)\n",
        "mae_et"
      ],
      "execution_count": null,
      "outputs": [
        {
          "output_type": "execute_result",
          "data": {
            "text/plain": [
              "3.9240087450808923"
            ]
          },
          "metadata": {},
          "execution_count": 95
        }
      ]
    },
    {
      "cell_type": "markdown",
      "metadata": {
        "id": "-SUNX-rzvaYU"
      },
      "source": [
        "**AdaBoost Regressor**"
      ]
    },
    {
      "cell_type": "code",
      "metadata": {
        "id": "K9MInN8XvmaL"
      },
      "source": [
        "ada_model = AdaBoostRegressor(random_state=0, n_estimators=100)"
      ],
      "execution_count": null,
      "outputs": []
    },
    {
      "cell_type": "code",
      "metadata": {
        "colab": {
          "base_uri": "https://localhost:8080/"
        },
        "id": "x9nKXCDivrBv",
        "outputId": "6b741654-830f-4b64-d754-354f17f54731"
      },
      "source": [
        "ada_model.fit(X_train,y_train)"
      ],
      "execution_count": null,
      "outputs": [
        {
          "output_type": "execute_result",
          "data": {
            "text/plain": [
              "AdaBoostRegressor(n_estimators=100, random_state=0)"
            ]
          },
          "metadata": {},
          "execution_count": 97
        }
      ]
    },
    {
      "cell_type": "code",
      "metadata": {
        "colab": {
          "base_uri": "https://localhost:8080/"
        },
        "id": "U1p6E4mvvyTL",
        "outputId": "3dc76893-6931-4cf6-a8af-9110ae59d2a6"
      },
      "source": [
        "y_pred_ada = ada_model.predict(X_test)\n",
        "y_pred_ada"
      ],
      "execution_count": null,
      "outputs": [
        {
          "output_type": "execute_result",
          "data": {
            "text/plain": [
              "array([ 9.93482629,  9.03319015, 11.74950921, ...,  8.74497168,\n",
              "       10.41519992,  9.00280354])"
            ]
          },
          "metadata": {},
          "execution_count": 98
        }
      ]
    },
    {
      "cell_type": "code",
      "metadata": {
        "colab": {
          "base_uri": "https://localhost:8080/"
        },
        "id": "YbTtSueLwM_-",
        "outputId": "64f53029-3ac0-4fcd-f295-076b11eea38e"
      },
      "source": [
        "mae_ada = mean_absolute_error(y_test,y_pred_ada)\n",
        "mae_ada"
      ],
      "execution_count": null,
      "outputs": [
        {
          "output_type": "execute_result",
          "data": {
            "text/plain": [
              "5.108503193323199"
            ]
          },
          "metadata": {},
          "execution_count": 99
        }
      ]
    },
    {
      "cell_type": "markdown",
      "metadata": {
        "id": "yl1j3JaPxTZj"
      },
      "source": [
        "**Voting Regressor**"
      ]
    },
    {
      "cell_type": "code",
      "metadata": {
        "id": "0ZFtjL43xoEx"
      },
      "source": [
        "vr_model = VotingRegressor([('lr', lr_model), ('rf', rf_model)])"
      ],
      "execution_count": null,
      "outputs": []
    },
    {
      "cell_type": "code",
      "metadata": {
        "colab": {
          "base_uri": "https://localhost:8080/"
        },
        "id": "JK_SfKPsxyBT",
        "outputId": "2d944915-6614-4e06-ac1e-a7f3135638e5"
      },
      "source": [
        "vr_model.fit(X_train,y_train)"
      ],
      "execution_count": null,
      "outputs": [
        {
          "output_type": "execute_result",
          "data": {
            "text/plain": [
              "VotingRegressor(estimators=[('lr', LinearRegression()),\n",
              "                            ('rf', RandomForestRegressor(random_state=0))])"
            ]
          },
          "metadata": {},
          "execution_count": 101
        }
      ]
    },
    {
      "cell_type": "code",
      "metadata": {
        "colab": {
          "base_uri": "https://localhost:8080/"
        },
        "id": "u-8FEVBVyJD2",
        "outputId": "c8035cb9-99ba-4c1e-ffe2-5cfa847c8cd7"
      },
      "source": [
        "y_pred_vr = vr_model.predict(X_test)\n",
        "y_pred_vr"
      ],
      "execution_count": null,
      "outputs": [
        {
          "output_type": "execute_result",
          "data": {
            "text/plain": [
              "array([10.83459162, 10.92766622, 14.50187452, ...,  5.21980532,\n",
              "       10.69660175,  7.25214259])"
            ]
          },
          "metadata": {},
          "execution_count": 102
        }
      ]
    },
    {
      "cell_type": "code",
      "metadata": {
        "colab": {
          "base_uri": "https://localhost:8080/"
        },
        "id": "toguHcUiyfRw",
        "outputId": "896e4fc2-e268-439a-feb9-ca6b1f2305b7"
      },
      "source": [
        "mae_vr = mean_absolute_error(y_test,y_pred_vr)\n",
        "mae_vr"
      ],
      "execution_count": null,
      "outputs": [
        {
          "output_type": "execute_result",
          "data": {
            "text/plain": [
              "3.54210049126165"
            ]
          },
          "metadata": {},
          "execution_count": 103
        }
      ]
    },
    {
      "cell_type": "code",
      "metadata": {
        "id": "4SiJb2pU-5fh"
      },
      "source": [
        "models = pd.DataFrame({\n",
        "    'Model': ['Linear Regression','Decision Tree Regressor', 'Random Forest','XG Boost', 'GradientBoostingRegressor',\n",
        "              'RidgeCV', 'Support Vector Machine', 'Linear Support Vector Machine',\n",
        "              'MLPRegressor', 'BaggingRegressor',\n",
        "              'ExtraTreesRegressor', 'AdaBoostRegressor', 'VotingRegressor'],\n",
        "    \n",
        "    'Mean absolute error' : [mae_lr, mae_dt, mae_rf, mae_xg, mae_gb, mae_ridge,\n",
        "                             mae_svr, mae_lsvr, mae_mlp, mae_bag, mae_et,\n",
        "                             mae_ada, mae_vr]\n",
        "                     })"
      ],
      "execution_count": null,
      "outputs": []
    },
    {
      "cell_type": "code",
      "metadata": {
        "id": "KHLIAbt4h7IS"
      },
      "source": [
        "models['Mean absolute error'] = round(models['Mean absolute error'])"
      ],
      "execution_count": null,
      "outputs": []
    },
    {
      "cell_type": "code",
      "metadata": {
        "colab": {
          "base_uri": "https://localhost:8080/",
          "height": 474
        },
        "id": "Q8tArtlFGuIe",
        "outputId": "a2c58db0-e3e2-4c95-fbf9-56b25339c7e2"
      },
      "source": [
        "print('Prediction accuracy for models by Mean Absolute Error')\n",
        "models.sort_values(by=['Mean absolute error'], ascending = False)"
      ],
      "execution_count": null,
      "outputs": [
        {
          "output_type": "stream",
          "name": "stdout",
          "text": [
            "Prediction accuracy for models by Mean Absolute Error\n"
          ]
        },
        {
          "output_type": "execute_result",
          "data": {
            "text/html": [
              "\n",
              "  <div id=\"df-778633c9-cdef-41d4-ad0b-c521ba3145a8\">\n",
              "    <div class=\"colab-df-container\">\n",
              "      <div>\n",
              "<style scoped>\n",
              "    .dataframe tbody tr th:only-of-type {\n",
              "        vertical-align: middle;\n",
              "    }\n",
              "\n",
              "    .dataframe tbody tr th {\n",
              "        vertical-align: top;\n",
              "    }\n",
              "\n",
              "    .dataframe thead th {\n",
              "        text-align: right;\n",
              "    }\n",
              "</style>\n",
              "<table border=\"1\" class=\"dataframe\">\n",
              "  <thead>\n",
              "    <tr style=\"text-align: right;\">\n",
              "      <th></th>\n",
              "      <th>Model</th>\n",
              "      <th>Mean absolute error</th>\n",
              "    </tr>\n",
              "  </thead>\n",
              "  <tbody>\n",
              "    <tr>\n",
              "      <th>7</th>\n",
              "      <td>Linear Support Vector Machine</td>\n",
              "      <td>7.0</td>\n",
              "    </tr>\n",
              "    <tr>\n",
              "      <th>8</th>\n",
              "      <td>MLPRegressor</td>\n",
              "      <td>6.0</td>\n",
              "    </tr>\n",
              "    <tr>\n",
              "      <th>6</th>\n",
              "      <td>Support Vector Machine</td>\n",
              "      <td>5.0</td>\n",
              "    </tr>\n",
              "    <tr>\n",
              "      <th>11</th>\n",
              "      <td>AdaBoostRegressor</td>\n",
              "      <td>5.0</td>\n",
              "    </tr>\n",
              "    <tr>\n",
              "      <th>0</th>\n",
              "      <td>Linear Regression</td>\n",
              "      <td>4.0</td>\n",
              "    </tr>\n",
              "    <tr>\n",
              "      <th>1</th>\n",
              "      <td>Decision Tree Regressor</td>\n",
              "      <td>4.0</td>\n",
              "    </tr>\n",
              "    <tr>\n",
              "      <th>3</th>\n",
              "      <td>XG Boost</td>\n",
              "      <td>4.0</td>\n",
              "    </tr>\n",
              "    <tr>\n",
              "      <th>4</th>\n",
              "      <td>GradientBoostingRegressor</td>\n",
              "      <td>4.0</td>\n",
              "    </tr>\n",
              "    <tr>\n",
              "      <th>5</th>\n",
              "      <td>RidgeCV</td>\n",
              "      <td>4.0</td>\n",
              "    </tr>\n",
              "    <tr>\n",
              "      <th>10</th>\n",
              "      <td>ExtraTreesRegressor</td>\n",
              "      <td>4.0</td>\n",
              "    </tr>\n",
              "    <tr>\n",
              "      <th>12</th>\n",
              "      <td>VotingRegressor</td>\n",
              "      <td>4.0</td>\n",
              "    </tr>\n",
              "    <tr>\n",
              "      <th>2</th>\n",
              "      <td>Random Forest</td>\n",
              "      <td>3.0</td>\n",
              "    </tr>\n",
              "    <tr>\n",
              "      <th>9</th>\n",
              "      <td>BaggingRegressor</td>\n",
              "      <td>3.0</td>\n",
              "    </tr>\n",
              "  </tbody>\n",
              "</table>\n",
              "</div>\n",
              "      <button class=\"colab-df-convert\" onclick=\"convertToInteractive('df-778633c9-cdef-41d4-ad0b-c521ba3145a8')\"\n",
              "              title=\"Convert this dataframe to an interactive table.\"\n",
              "              style=\"display:none;\">\n",
              "        \n",
              "  <svg xmlns=\"http://www.w3.org/2000/svg\" height=\"24px\"viewBox=\"0 0 24 24\"\n",
              "       width=\"24px\">\n",
              "    <path d=\"M0 0h24v24H0V0z\" fill=\"none\"/>\n",
              "    <path d=\"M18.56 5.44l.94 2.06.94-2.06 2.06-.94-2.06-.94-.94-2.06-.94 2.06-2.06.94zm-11 1L8.5 8.5l.94-2.06 2.06-.94-2.06-.94L8.5 2.5l-.94 2.06-2.06.94zm10 10l.94 2.06.94-2.06 2.06-.94-2.06-.94-.94-2.06-.94 2.06-2.06.94z\"/><path d=\"M17.41 7.96l-1.37-1.37c-.4-.4-.92-.59-1.43-.59-.52 0-1.04.2-1.43.59L10.3 9.45l-7.72 7.72c-.78.78-.78 2.05 0 2.83L4 21.41c.39.39.9.59 1.41.59.51 0 1.02-.2 1.41-.59l7.78-7.78 2.81-2.81c.8-.78.8-2.07 0-2.86zM5.41 20L4 18.59l7.72-7.72 1.47 1.35L5.41 20z\"/>\n",
              "  </svg>\n",
              "      </button>\n",
              "      \n",
              "  <style>\n",
              "    .colab-df-container {\n",
              "      display:flex;\n",
              "      flex-wrap:wrap;\n",
              "      gap: 12px;\n",
              "    }\n",
              "\n",
              "    .colab-df-convert {\n",
              "      background-color: #E8F0FE;\n",
              "      border: none;\n",
              "      border-radius: 50%;\n",
              "      cursor: pointer;\n",
              "      display: none;\n",
              "      fill: #1967D2;\n",
              "      height: 32px;\n",
              "      padding: 0 0 0 0;\n",
              "      width: 32px;\n",
              "    }\n",
              "\n",
              "    .colab-df-convert:hover {\n",
              "      background-color: #E2EBFA;\n",
              "      box-shadow: 0px 1px 2px rgba(60, 64, 67, 0.3), 0px 1px 3px 1px rgba(60, 64, 67, 0.15);\n",
              "      fill: #174EA6;\n",
              "    }\n",
              "\n",
              "    [theme=dark] .colab-df-convert {\n",
              "      background-color: #3B4455;\n",
              "      fill: #D2E3FC;\n",
              "    }\n",
              "\n",
              "    [theme=dark] .colab-df-convert:hover {\n",
              "      background-color: #434B5C;\n",
              "      box-shadow: 0px 1px 3px 1px rgba(0, 0, 0, 0.15);\n",
              "      filter: drop-shadow(0px 1px 2px rgba(0, 0, 0, 0.3));\n",
              "      fill: #FFFFFF;\n",
              "    }\n",
              "  </style>\n",
              "\n",
              "      <script>\n",
              "        const buttonEl =\n",
              "          document.querySelector('#df-778633c9-cdef-41d4-ad0b-c521ba3145a8 button.colab-df-convert');\n",
              "        buttonEl.style.display =\n",
              "          google.colab.kernel.accessAllowed ? 'block' : 'none';\n",
              "\n",
              "        async function convertToInteractive(key) {\n",
              "          const element = document.querySelector('#df-778633c9-cdef-41d4-ad0b-c521ba3145a8');\n",
              "          const dataTable =\n",
              "            await google.colab.kernel.invokeFunction('convertToInteractive',\n",
              "                                                     [key], {});\n",
              "          if (!dataTable) return;\n",
              "\n",
              "          const docLinkHtml = 'Like what you see? Visit the ' +\n",
              "            '<a target=\"_blank\" href=https://colab.research.google.com/notebooks/data_table.ipynb>data table notebook</a>'\n",
              "            + ' to learn more about interactive tables.';\n",
              "          element.innerHTML = '';\n",
              "          dataTable['output_type'] = 'display_data';\n",
              "          await google.colab.output.renderOutput(dataTable, element);\n",
              "          const docLink = document.createElement('div');\n",
              "          docLink.innerHTML = docLinkHtml;\n",
              "          element.appendChild(docLink);\n",
              "        }\n",
              "      </script>\n",
              "    </div>\n",
              "  </div>\n",
              "  "
            ],
            "text/plain": [
              "                            Model  Mean absolute error\n",
              "7   Linear Support Vector Machine                  7.0\n",
              "8                    MLPRegressor                  6.0\n",
              "6          Support Vector Machine                  5.0\n",
              "11              AdaBoostRegressor                  5.0\n",
              "0               Linear Regression                  4.0\n",
              "1         Decision Tree Regressor                  4.0\n",
              "3                        XG Boost                  4.0\n",
              "4       GradientBoostingRegressor                  4.0\n",
              "5                         RidgeCV                  4.0\n",
              "10            ExtraTreesRegressor                  4.0\n",
              "12                VotingRegressor                  4.0\n",
              "2                   Random Forest                  3.0\n",
              "9                BaggingRegressor                  3.0"
            ]
          },
          "metadata": {},
          "execution_count": 106
        }
      ]
    },
    {
      "cell_type": "code",
      "metadata": {
        "id": "iIu2M2xOUA7v"
      },
      "source": [
        "from sklearn.metrics import r2_score"
      ],
      "execution_count": null,
      "outputs": []
    },
    {
      "cell_type": "code",
      "metadata": {
        "colab": {
          "base_uri": "https://localhost:8080/"
        },
        "id": "osRKKY_6UH89",
        "outputId": "5d2aee78-fc72-4bb8-a080-d741f403b9c8"
      },
      "source": [
        "r2_score(y_test, y_pred_rf)"
      ],
      "execution_count": null,
      "outputs": [
        {
          "output_type": "execute_result",
          "data": {
            "text/plain": [
              "0.5498010994614709"
            ]
          },
          "metadata": {},
          "execution_count": 108
        }
      ]
    },
    {
      "cell_type": "code",
      "metadata": {
        "colab": {
          "base_uri": "https://localhost:8080/"
        },
        "id": "sYwIMtjCUZk8",
        "outputId": "26f1e40c-a8c7-4836-b331-d3634d6bdbcf"
      },
      "source": [
        "r2_score(y_test, y_pred_bag)"
      ],
      "execution_count": null,
      "outputs": [
        {
          "output_type": "execute_result",
          "data": {
            "text/plain": [
              "0.49203845180274297"
            ]
          },
          "metadata": {},
          "execution_count": 109
        }
      ]
    },
    {
      "cell_type": "code",
      "source": [
        "#Since R^2 value is high for Random forest, the values are predicted using it"
      ],
      "metadata": {
        "id": "7ZF2WyZg9H51"
      },
      "execution_count": null,
      "outputs": []
    },
    {
      "cell_type": "code",
      "metadata": {
        "colab": {
          "base_uri": "https://localhost:8080/"
        },
        "id": "9d7TWA1MU9y9",
        "outputId": "b6f34d72-00b9-49e8-c502-15c2773b11ed"
      },
      "source": [
        "y_pred_rf = rf_model.predict(X_test)\n",
        "y_pred_rf"
      ],
      "execution_count": null,
      "outputs": [
        {
          "output_type": "execute_result",
          "data": {
            "text/plain": [
              "array([10.43486, 12.96151, 16.29776, ...,  3.93304, 11.56656,  7.29298])"
            ]
          },
          "metadata": {},
          "execution_count": 56
        }
      ]
    }
  ]
}